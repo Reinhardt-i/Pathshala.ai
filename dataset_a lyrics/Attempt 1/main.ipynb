{
 "cells": [
  {
   "cell_type": "code",
   "execution_count": 3,
   "metadata": {},
   "outputs": [
    {
     "name": "stdout",
     "output_type": "stream",
     "text": [
      "length of dataset in characters:  2002285\n",
      "এবার তোমার কথাগুলোর\n",
      "কাছে আমি অপরাজিত\n",
      "জমে থাকা যত অনুভূতি আমার\n",
      "জল রঙে হারিয়ে যাবে\n",
      "অধিকারের ভালবাসা\n",
      "রঙ\n"
     ]
    }
   ],
   "source": [
    "# read it in to inspect it\n",
    "with open('out.txt', 'r', encoding='utf-8') as f:\n",
    "    text = f.read()\n",
    "\n",
    "print(\"length of dataset in characters: \", len(text))\n",
    "print(text[:100])"
   ]
  },
  {
   "cell_type": "code",
   "execution_count": 4,
   "metadata": {},
   "outputs": [
    {
     "name": "stdout",
     "output_type": "stream",
     "text": [
      "\t\n",
      " !#()*+,-./0123456789:;=?ABCDEFGHIJKLMNOPRSTUVWXYZ[]^_`abcdefghijklmnopqrstuvwxy{|} ¤¯´·ßøŒأإابةتحدسضطعغفقكلمنهوىي।॥ঁংঃঅআইঈউঊঋএঐওঔকখগঘঙচছজঝঞটঠডঢণতথদধনপফবভমযরলশষসহ়ািীুূৃেৈোৌ্ৎৗড়ঢ়য়০১২৩৪৫৬৭৮৯৷​‌‍–—―‘’“”…−♪♫﻿\n",
      "207\n"
     ]
    }
   ],
   "source": [
    "# Unique characters that occur in this text\n",
    "chars = sorted(list(set(text)))\n",
    "vocab_size = len(chars)\n",
    "print(''.join(chars))\n",
    "print(vocab_size)"
   ]
  },
  {
   "cell_type": "code",
   "execution_count": null,
   "metadata": {},
   "outputs": [
    {
     "name": "stdout",
     "output_type": "stream",
     "text": [
      "[162, 153, 175, 142, 130, 157, 164, 175, 157, 165, 158, 2, 152, 175, 158, 132, 174, 160, 159, 167, 85, 154, 166, 155, 165, 134]\n",
      "আমার জুতা\n"
     ]
    }
   ],
   "source": [
    "# create a mapping from characters to integers\n",
    "stoi = { ch:i for i,ch in enumerate(chars) }\n",
    "itos = { i:ch for i,ch in enumerate(chars) }\n",
    "encode = lambda s: [stoi[c] for c in s] # encoder: take a string, output a list of integers\n",
    "decode = lambda l: ''.join([itos[i] for i in l]) # decoder: take a list of integers, output a string\n",
    "\n",
    "\n",
    "enc = encode(\"সফ্টওয়্যার প্রকৌশলী বিভাগ\")\n",
    "dec = decode(enc)\n",
    "print(enc)\n",
    "print(dec)"
   ]
  }
 ],
 "metadata": {
  "kernelspec": {
   "display_name": "Python 3",
   "language": "python",
   "name": "python3"
  },
  "language_info": {
   "codemirror_mode": {
    "name": "ipython",
    "version": 3
   },
   "file_extension": ".py",
   "mimetype": "text/x-python",
   "name": "python",
   "nbconvert_exporter": "python",
   "pygments_lexer": "ipython3",
   "version": "3.12.7"
  }
 },
 "nbformat": 4,
 "nbformat_minor": 2
}
