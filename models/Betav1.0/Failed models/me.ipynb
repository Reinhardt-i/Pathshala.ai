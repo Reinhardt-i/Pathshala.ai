{
 "cells": [
  {
   "cell_type": "code",
   "execution_count": 1,
   "id": "ce2fae4f-44ac-4d82-b9cd-8b91d59bcddf",
   "metadata": {},
   "outputs": [
    {
     "name": "stdout",
     "output_type": "stream",
     "text": [
      "sdcvs\n"
     ]
    }
   ],
   "source": [
    "print(\"sdcvs\")"
   ]
  },
  {
   "cell_type": "code",
   "execution_count": 2,
   "id": "0dee72f6-31a0-45ba-9348-993d49d2fc3a",
   "metadata": {},
   "outputs": [
    {
     "data": {
      "application/vnd.jupyter.widget-view+json": {
       "model_id": "0e35a19390094c4d8349abcd3ad145e2",
       "version_major": 2,
       "version_minor": 0
      },
      "text/plain": [
       "model.safetensors:   0%|          | 0.00/443M [00:00<?, ?B/s]"
      ]
     },
     "metadata": {},
     "output_type": "display_data"
    },
    {
     "name": "stderr",
     "output_type": "stream",
     "text": [
      "Error while downloading from https://cdn-lfs.hf.co/csebuetnlp/banglabert/727fd709ad37b49a8507a68e847199a53d1c2993be720e99923577524f28cf5a?response-content-disposition=inline%3B+filename*%3DUTF-8%27%27model.safetensors%3B+filename%3D%22model.safetensors%22%3B&Expires=1732576981&Policy=eyJTdGF0ZW1lbnQiOlt7IkNvbmRpdGlvbiI6eyJEYXRlTGVzc1RoYW4iOnsiQVdTOkVwb2NoVGltZSI6MTczMjU3Njk4MX19LCJSZXNvdXJjZSI6Imh0dHBzOi8vY2RuLWxmcy5oZi5jby9jc2VidWV0bmxwL2JhbmdsYWJlcnQvNzI3ZmQ3MDlhZDM3YjQ5YTg1MDdhNjhlODQ3MTk5YTUzZDFjMjk5M2JlNzIwZTk5OTIzNTc3NTI0ZjI4Y2Y1YT9yZXNwb25zZS1jb250ZW50LWRpc3Bvc2l0aW9uPSoifV19&Signature=oa7SwqK1ZWRv-jcBMfW1aM-Z1fbi0TQiTXobj2OO67zbaea0R3jFg7KnTxp9tL70hrrIE3bzZl3%7EnkKskqQgbwKqc53B5%7EckQDvV8LDZxNSPLFcFsSAJNhmrRvlVY2pyB9KD34mptg%7Ewreqaxbit2INLZ1rUGauai5Xb3irQCKnzt8bWCUbOiQcw8YuPTF5mQbqoJJTT-4LAuQfzTQRkM0WBXmsFF1kmHSOs8Kyb12fnL0D9ONiIJiuesjDFJgHz5lBj2%7EMXIeluS-yTO75z7HMBKTZjh2DrB9%7E6va3GPOlWkkuxOpTFjPgifWYUWR8WQSAudj6vsKtw-dB8OZWNJg__&Key-Pair-Id=K3RPWS32NSSJCE: HTTPSConnectionPool(host='cdn-lfs.hf.co', port=443): Read timed out.\n",
      "Trying to resume download...\n"
     ]
    }
   ],
   "source": [
    "from transformers import AutoTokenizer, AutoModelForPreTraining\n",
    "\n",
    "tokenizer = AutoTokenizer.from_pretrained(\"csebuetnlp/banglabert\")\n",
    "model = AutoModelForPreTraining.from_pretrained(\"csebuetnlp/banglabert\")\n"
   ]
  },
  {
   "cell_type": "code",
   "execution_count": null,
   "id": "3e70d67e",
   "metadata": {},
   "outputs": [
    {
     "data": {
      "application/vnd.jupyter.widget-view+json": {
       "model_id": "1ef78e2441724f2d9da3669303c83a15",
       "version_major": 2,
       "version_minor": 0
      },
      "text/plain": [
       "tokenizer_config.json:   0%|          | 0.00/119 [00:00<?, ?B/s]"
      ]
     },
     "metadata": {},
     "output_type": "display_data"
    },
    {
     "data": {
      "application/vnd.jupyter.widget-view+json": {
       "model_id": "cf713f39a7f948c8982dd213189aef21",
       "version_major": 2,
       "version_minor": 0
      },
      "text/plain": [
       "config.json:   0%|          | 0.00/586 [00:00<?, ?B/s]"
      ]
     },
     "metadata": {},
     "output_type": "display_data"
    },
    {
     "data": {
      "application/vnd.jupyter.widget-view+json": {
       "model_id": "bf04e84a51e94bb8a28e94832a344c06",
       "version_major": 2,
       "version_minor": 0
      },
      "text/plain": [
       "vocab.txt:   0%|          | 0.00/528k [00:00<?, ?B/s]"
      ]
     },
     "metadata": {},
     "output_type": "display_data"
    },
    {
     "data": {
      "application/vnd.jupyter.widget-view+json": {
       "model_id": "27c00a5639c54026a4d045e7a2e11cbc",
       "version_major": 2,
       "version_minor": 0
      },
      "text/plain": [
       "special_tokens_map.json:   0%|          | 0.00/112 [00:00<?, ?B/s]"
      ]
     },
     "metadata": {},
     "output_type": "display_data"
    },
    {
     "data": {
      "application/vnd.jupyter.widget-view+json": {
       "model_id": "3e39f225c2a249b9990696a8462e8ffd",
       "version_major": 2,
       "version_minor": 0
      },
      "text/plain": [
       "pytorch_model.bin:   0%|          | 0.00/443M [00:00<?, ?B/s]"
      ]
     },
     "metadata": {},
     "output_type": "display_data"
    }
   ],
   "source": []
  }
 ],
 "metadata": {
  "kernelspec": {
   "display_name": ".env",
   "language": "python",
   "name": "python3"
  },
  "language_info": {
   "codemirror_mode": {
    "name": "ipython",
    "version": 3
   },
   "file_extension": ".py",
   "mimetype": "text/x-python",
   "name": "python",
   "nbconvert_exporter": "python",
   "pygments_lexer": "ipython3",
   "version": "3.11.10"
  }
 },
 "nbformat": 4,
 "nbformat_minor": 5
}
